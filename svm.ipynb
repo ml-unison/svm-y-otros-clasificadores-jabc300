{
 "cells": [
  {
   "cell_type": "markdown",
   "metadata": {},
   "source": [
    "<img src=\"https://raw.githubusercontent.com/ml-unison/regresion-logistica/master/imagenes/ml-unison.png\" width=\"250\">\n",
    "\n",
    "# Maquinas de vectores de soporte\n",
    "\n",
    "**Julio Waissman Vianova**\n",
    "\n",
    "En esta libreta vamos a ver las diferencias entre los diferentes *kernels* así como el efecto del parámetro $C$ en la clasificación por máquinas de vectores de soporte. \n"
   ]
  },
  {
   "cell_type": "code",
   "execution_count": 1,
   "metadata": {},
   "outputs": [
    {
     "ename": "ModuleNotFoundError",
     "evalue": "No module named 'sklearn'",
     "output_type": "error",
     "traceback": [
      "\u001b[1;31m---------------------------------------------------------------------------\u001b[0m",
      "\u001b[1;31mModuleNotFoundError\u001b[0m                       Traceback (most recent call last)",
      "\u001b[1;32m<ipython-input-1-cec782055b12>\u001b[0m in \u001b[0;36m<module>\u001b[1;34m\u001b[0m\n\u001b[0;32m      1\u001b[0m \u001b[1;32mimport\u001b[0m \u001b[0mnumpy\u001b[0m \u001b[1;32mas\u001b[0m \u001b[0mnp\u001b[0m\u001b[1;33m\u001b[0m\u001b[1;33m\u001b[0m\u001b[0m\n\u001b[0;32m      2\u001b[0m \u001b[1;32mimport\u001b[0m \u001b[0mmatplotlib\u001b[0m\u001b[1;33m.\u001b[0m\u001b[0mpyplot\u001b[0m \u001b[1;32mas\u001b[0m \u001b[0mplt\u001b[0m\u001b[1;33m\u001b[0m\u001b[1;33m\u001b[0m\u001b[0m\n\u001b[1;32m----> 3\u001b[1;33m \u001b[1;32mfrom\u001b[0m \u001b[0msklearn\u001b[0m\u001b[1;33m.\u001b[0m\u001b[0msvm\u001b[0m \u001b[1;32mimport\u001b[0m \u001b[0mSVC\u001b[0m\u001b[1;33m\u001b[0m\u001b[1;33m\u001b[0m\u001b[0m\n\u001b[0m\u001b[0;32m      4\u001b[0m \u001b[0mplt\u001b[0m\u001b[1;33m.\u001b[0m\u001b[0mstyle\u001b[0m\u001b[1;33m.\u001b[0m\u001b[0muse\u001b[0m\u001b[1;33m(\u001b[0m\u001b[1;34m'ggplot'\u001b[0m\u001b[1;33m)\u001b[0m\u001b[1;33m\u001b[0m\u001b[1;33m\u001b[0m\u001b[0m\n\u001b[0;32m      5\u001b[0m \u001b[0mget_ipython\u001b[0m\u001b[1;33m(\u001b[0m\u001b[1;33m)\u001b[0m\u001b[1;33m.\u001b[0m\u001b[0mrun_line_magic\u001b[0m\u001b[1;33m(\u001b[0m\u001b[1;34m'matplotlib'\u001b[0m\u001b[1;33m,\u001b[0m \u001b[1;34m'inline'\u001b[0m\u001b[1;33m)\u001b[0m\u001b[1;33m\u001b[0m\u001b[1;33m\u001b[0m\u001b[0m\n",
      "\u001b[1;31mModuleNotFoundError\u001b[0m: No module named 'sklearn'"
     ]
    }
   ],
   "source": [
    "import numpy as np\n",
    "import matplotlib.pyplot as plt\n",
    "from sklearn.svm import SVC\n",
    "plt.style.use('ggplot')\n",
    "%matplotlib inline\n",
    "\n"
   ]
  },
  {
   "cell_type": "markdown",
   "metadata": {},
   "source": [
    "### 1. Generación de las bases de datos con las que vamos a probar\n"
   ]
  },
  {
   "cell_type": "code",
   "execution_count": null,
   "metadata": {},
   "outputs": [],
   "source": [
    "# Conjuntos de datos para probar\n",
    "from sklearn import datasets\n",
    "from sklearn.preprocessing import StandardScaler\n",
    "from matplotlib.colors import ListedColormap\n",
    "\n",
    "# Datos en forma de media luna\n",
    "X1, y1 = datasets.make_moons(noise=0.3, random_state=0)\n",
    "\n",
    "# Datos en forma de círculos\n",
    "X2, y2 = datasets.make_circles(noise=0.2, factor=0.5, random_state=1)\n",
    "\n",
    "# Datos en forma de regresion lineal\n",
    "X3, y3 = datasets.make_classification(\n",
    "    n_features=2, n_redundant=0, n_informative=2, n_clusters_per_class=1\n",
    ")\n",
    "# Le agregamos ruido para hacerlos interesantes\n",
    "rng = np.random.RandomState(2)\n",
    "X3 += 2 * rng.uniform(size=X3.shape)\n",
    "\n",
    "X4, y4 = datasets.make_classification(\n",
    "    n_features=2, n_redundant=0, n_informative=2, n_clusters_per_class=2\n",
    ")\n",
    "\n",
    "# Los conjuntos de datos irdenados como una lista de pares ordenados\n",
    "datasets = [(X1, y1), (X2, y2), (X3, y3), (X4, y4)]\n",
    "\n",
    "# Y los grafiacamos para verlos\n",
    "figure = plt.figure(figsize=(10, 10))\n",
    "cm_escala = ListedColormap(['#FF0000', '#0000FF', '#00FF00'])\n",
    "\n",
    "for (i, ds) in enumerate(datasets):\n",
    "\n",
    "    # Selecciona los valores del conjunto de datos y los escala\n",
    "    X, y = ds\n",
    "    X = StandardScaler().fit_transform(X)\n",
    "\n",
    "    # Grafica\n",
    "    ax = plt.subplot(2, 2, i+1)\n",
    "    ax.scatter(X[:, 0], X[:, 1], c=y, s=50, cmap=cm_escala)\n",
    "    ax.set_xlim(X[:, 0].min() - .5, X[:, 0].max() + .5)\n",
    "    ax.set_ylim(X[:, 1].min() - .5, X[:, 1].max() + .5)\n",
    "    ax.set_xticks(())\n",
    "    ax.set_yticks(())\n",
    "    plt.title(f\"Conjunto de datos {i+1}\")\n",
    "figure.subplots_adjust(left=.02, right=.98)    \n",
    "plt.show()\n",
    "\n"
   ]
  },
  {
   "cell_type": "markdown",
   "metadata": {},
   "source": [
    "### 2. Probando diferentes kernels en los conjuntos de datos\n",
    "\n"
   ]
  },
  {
   "cell_type": "code",
   "execution_count": null,
   "metadata": {},
   "outputs": [],
   "source": [
    "## Vamos a escoger una escala de colores de alto contraste\n",
    "cm = plt.cm.RdBu\n",
    "\n",
    "# Una figura por cada conjunto de datos\n",
    "for (cual, ds) in enumerate(datasets):\n",
    "    \n",
    "    print(f\"\\n\\nBase de datos {cual + 1}\")\n",
    "    figure = plt.figure(figsize=(10, 10))\n",
    "\n",
    "    # Escalar y selecciona valores de entrenamiento y prueba\n",
    "    X, y = ds\n",
    "    X = StandardScaler().fit_transform(X)\n",
    " \n",
    "    # Meshgrid para pintar las regiones\n",
    "    xx, yy = np.meshgrid(np.arange(X[:, 0].min() - .5, X[:, 0].max() + .5, 0.02),\n",
    "                         np.arange(X[:, 1].min() - .5, X[:, 1].max() + .5, 0.02))\n",
    "\n",
    "    # Por cada clasificador\n",
    "    for (i, kernel) in enumerate(['linear', 'poly', 'rbf', 'sigmoid']):\n",
    "        ax = plt.subplot(2, 2, i + 1)\n",
    "\n",
    "        # Entrenamiento\n",
    "        clf = SVC(kernel=kernel, C=1, probability=True)\n",
    "        clf.fit(X, y)\n",
    "        score = clf.score(X, y)\n",
    "\n",
    "        # Clasifica cada punto en el meshgrid\n",
    "        Z = clf.predict_proba(np.c_[xx.ravel(), yy.ravel()])[:, 1]\n",
    "        Z = Z.reshape(xx.shape)\n",
    "\n",
    "        # Asigna un contorno de probabilidad\n",
    "        ax.contourf(xx, yy, Z, cmap=cm, alpha=.8)\n",
    "        # Grafica los datos\n",
    "        ax.scatter(X[:, 0], X[:, 1], c=y, cmap=cm_escala, s=50)\n",
    "        # Arregla axes y pone titulos\n",
    "        ax.set_xlim(xx.min(), xx.max())\n",
    "        ax.set_ylim(yy.min(), yy.max())\n",
    "        ax.set_xticks(())\n",
    "        ax.set_yticks(())\n",
    "        ax.text(xx.max() - .3, yy.min() + .3, ('%.2f' % score).lstrip('0'),\n",
    "                size=30, horizontalalignment='right')\n",
    "        plt.title(f\"Kernel {kernel} en conjunto de datos {cual + 1}\")\n",
    "\n",
    "    figure.subplots_adjust(left=.02, right=.98)\n",
    "    plt.show()"
   ]
  },
  {
   "cell_type": "markdown",
   "metadata": {},
   "source": [
    "### 3. Que pasa cuando aumenta $C$ en el clasificador lineal"
   ]
  },
  {
   "cell_type": "code",
   "execution_count": null,
   "metadata": {},
   "outputs": [],
   "source": [
    "kernel = 'linear'\n",
    "\n",
    "# Una figura por cada conjunto de datos\n",
    "for (cual, ds) in enumerate(datasets):\n",
    "    \n",
    "    print(f\"\\n\\nBase de datos {cual + 1}\")\n",
    "    figure = plt.figure(figsize=(10, 10))\n",
    "\n",
    "    # Escalar y selecciona valores de entrenamiento y prueba\n",
    "    X, y = ds\n",
    "    X = StandardScaler().fit_transform(X)\n",
    " \n",
    "    # Meshgrid para pintar las regiones\n",
    "    xx, yy = np.meshgrid(np.arange(X[:, 0].min() - .5, X[:, 0].max() + .5, 0.02),\n",
    "                         np.arange(X[:, 1].min() - .5, X[:, 1].max() + .5, 0.02))\n",
    "\n",
    "    # Por cada clasificador\n",
    "    for (i, C) in enumerate([.001, .1, 1, 10]):\n",
    "        ax = plt.subplot(2, 2, i + 1)\n",
    "\n",
    "        # Entrenamiento\n",
    "        clf = SVC(kernel=kernel, C=C, probability=True)\n",
    "        clf.fit(X, y)\n",
    "        score = clf.score(X, y)\n",
    "\n",
    "        # Clasifica cada punto en el meshgrid\n",
    "        Z = clf.predict_proba(np.c_[xx.ravel(), yy.ravel()])[:, 1]\n",
    "        Z = Z.reshape(xx.shape)\n",
    "\n",
    "        # Asigna un contorno de probabilidad\n",
    "        ax.contourf(xx, yy, Z, cmap=cm, alpha=.8)\n",
    "        # Grafica los datos\n",
    "        ax.scatter(X[:, 0], X[:, 1], c=y, cmap=cm_escala, s=50)\n",
    "        # Arregla axes y pone titulos\n",
    "        ax.set_xlim(xx.min(), xx.max())\n",
    "        ax.set_ylim(yy.min(), yy.max())\n",
    "        ax.set_xticks(())\n",
    "        ax.set_yticks(())\n",
    "        ax.text(xx.max() - .3, yy.min() + .3, ('%.2f' % score).lstrip('0'),\n",
    "                size=30, horizontalalignment='right')\n",
    "        plt.title(f\"Kernel {kernel}, C = {C} en conjunto de datos {cual + 1}\")\n",
    "\n",
    "    figure.subplots_adjust(left=.02, right=.98)\n",
    "    plt.show()"
   ]
  },
  {
   "cell_type": "markdown",
   "metadata": {},
   "source": [
    "**Ejercicio 1. Prueba modificar los valores de C para los diferentes kernels manteniendo el resto de los parámetros por default. Comenta aquí mismo tus conclusiones.**"
   ]
  },
  {
   "cell_type": "markdown",
   "metadata": {},
   "source": [
    "### 4. La variable `gamma` para los kernel `rbf`, `poly` y `sigmoid`\n",
    "\n",
    "** Ejercicio 2. Escribe aquí mismo que significa la variable `gamma` ($\\gamma$) ** para los diferentes kernels (puedes poner la ecuación si es necesario)\n",
    "\n",
    "1. Para `rbf`: *Insertar texto aqui*\n",
    "\n",
    "2. Para `poly`: *Insertar texto aqui*\n",
    "\n",
    "3. Para `sigmois`: *Insertar texto aqui*\n"
   ]
  },
  {
   "cell_type": "code",
   "execution_count": null,
   "metadata": {},
   "outputs": [],
   "source": [
    "kernel = 'rbf'\n",
    "C = 10\n",
    "\n",
    "# Una figura por cada conjunto de datos\n",
    "for (cual, ds) in enumerate(datasets):\n",
    "    \n",
    "    print(f\"\\n\\nBase de datos {cual + 1}\")\n",
    "    figure = plt.figure(figsize=(10, 10))\n",
    "\n",
    "    # Escalar y selecciona valores de entrenamiento y prueba\n",
    "    X, y = ds\n",
    "    X = StandardScaler().fit_transform(X)\n",
    " \n",
    "    # Meshgrid para pintar las regiones\n",
    "    xx, yy = np.meshgrid(np.arange(X[:, 0].min() - .5, X[:, 0].max() + .5, 0.02),\n",
    "                         np.arange(X[:, 1].min() - .5, X[:, 1].max() + .5, 0.02))\n",
    "\n",
    "    # Por cada clasificador\n",
    "    for (i, gamma) in enumerate([.001, .1, 1, 10]):\n",
    "        ax = plt.subplot(2, 2, i + 1)\n",
    "\n",
    "        # Entrenamiento\n",
    "        clf = SVC(kernel=kernel, C=C, gamma=gamma, probability=True)\n",
    "        clf.fit(X, y)\n",
    "        score = clf.score(X, y)\n",
    "\n",
    "        # Clasifica cada punto en el meshgrid\n",
    "        Z = clf.predict_proba(np.c_[xx.ravel(), yy.ravel()])[:, 1]\n",
    "        Z = Z.reshape(xx.shape)\n",
    "\n",
    "        # Asigna un contorno de probabilidad\n",
    "        ax.contourf(xx, yy, Z, cmap=cm, alpha=.8)\n",
    "        # Grafica los datos\n",
    "        ax.scatter(X[:, 0], X[:, 1], c=y, cmap=cm_escala, s=50)\n",
    "        # Arregla axes y pone titulos\n",
    "        ax.set_xlim(xx.min(), xx.max())\n",
    "        ax.set_ylim(yy.min(), yy.max())\n",
    "        ax.set_xticks(())\n",
    "        ax.set_yticks(())\n",
    "        ax.text(xx.max() - .3, yy.min() + .3, ('%.2f' % score).lstrip('0'),\n",
    "                size=30, horizontalalignment='right')\n",
    "        plt.title(f\"{kernel}, C = {C}, $\\gamma$={gamma} en conjunto de datos {cual + 1}\")\n",
    "\n",
    "    figure.subplots_adjust(left=.02, right=.98)\n",
    "    plt.show()"
   ]
  },
  {
   "cell_type": "markdown",
   "metadata": {},
   "source": [
    "**Ejercicio 3: Encuentra la mejor combiación de $C$ y $\\gamma$ para los 3 tipos de *kernel*, explica en cada uno en que afecta la $\\gamma$ y porque tiene una influencia tan diferente.**"
   ]
  },
  {
   "cell_type": "markdown",
   "metadata": {},
   "source": [
    "**Ejercicio 4: Como viste, existe mucho código repetido en los incisos 2, 3 y 4, por lo que se puede generalizar una parte con una función. Intenta generalizarlo** "
   ]
  },
  {
   "cell_type": "markdown",
   "metadata": {},
   "source": [
    "**Exta bono: ¿Que significa el parámetro `coef0` para los *kernels* `sigmoid` y `poly`? ¿Cómo afeca en la clasificación?"
   ]
  }
 ],
 "metadata": {
  "kernelspec": {
   "display_name": "Python 3",
   "language": "python",
   "name": "python3"
  },
  "language_info": {
   "codemirror_mode": {
    "name": "ipython",
    "version": 3
   },
   "file_extension": ".py",
   "mimetype": "text/x-python",
   "name": "python",
   "nbconvert_exporter": "python",
   "pygments_lexer": "ipython3",
   "version": "3.8.5"
  }
 },
 "nbformat": 4,
 "nbformat_minor": 2
}
